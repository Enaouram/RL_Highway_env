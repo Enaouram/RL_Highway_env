{
 "cells": [
  {
   "cell_type": "markdown",
   "metadata": {},
   "source": [
    "<tr>\n",
    "<td style=\"text-align: center;\">\n",
    "    <div style=\"display: inline-block;text-align: center\">\n",
    "        <img src=\"Logo_CentraleSupélec.png\" style=\"width: 30%;\">\n",
    "    </div>\n",
    "</td>\n",
    "</tr>\n",
    "\n",
    "<h1 style=\"font-family: Georgia, Arial; font-size: 36px;\">Reinforcement Learning Project </h1>\n",
    "<p style=\"font-size: 24px;\"></p>\n",
    "<p style=\"font-size: 24px;\">Members: Francisco García, Samer Lahoud, Marouane Maamar, Ayman</p>\n",
    "\n"
   ]
  },
  {
   "cell_type": "markdown",
   "metadata": {},
   "source": [
    "# Understanding the environment"
   ]
  },
  {
   "cell_type": "markdown",
   "metadata": {},
   "source": [
    "Before all, experimenting wit the environment:"
   ]
  },
  {
   "cell_type": "code",
   "execution_count": 1,
   "metadata": {},
   "outputs": [],
   "source": [
    "import gymnasium as gym\n",
    "from matplotlib import pyplot as plt\n",
    "import pprint\n",
    "%matplotlib inline"
   ]
  },
  {
   "cell_type": "markdown",
   "metadata": {},
   "source": [
    "Plotting the output"
   ]
  },
  {
   "cell_type": "code",
   "execution_count": 2,
   "metadata": {},
   "outputs": [
    {
     "name": "stderr",
     "output_type": "stream",
     "text": [
      "C:\\Users\\Francisco García\\anaconda3\\Lib\\site-packages\\gymnasium\\core.py:311: UserWarning: \u001b[33mWARN: env.action_type to get variables from other wrappers is deprecated and will be removed in v1.0, to get this variable you can do `env.unwrapped.action_type` for environment variables or `env.get_wrapper_attr('action_type')` that will search the reminding wrappers.\u001b[0m\n",
      "  logger.warn(\n",
      "C:\\Users\\Francisco García\\anaconda3\\Lib\\site-packages\\gymnasium\\core.py:311: UserWarning: \u001b[33mWARN: env.action_type to get variables from other wrappers is deprecated and will be removed in v1.0, to get this variable you can do `env.unwrapped.action_type` for environment variables or `env.get_wrapper_attr('action_type')` that will search the reminding wrappers.\u001b[0m\n",
      "  logger.warn(\n",
      "C:\\Users\\Francisco García\\anaconda3\\Lib\\site-packages\\gymnasium\\core.py:311: UserWarning: \u001b[33mWARN: env.action_type to get variables from other wrappers is deprecated and will be removed in v1.0, to get this variable you can do `env.unwrapped.action_type` for environment variables or `env.get_wrapper_attr('action_type')` that will search the reminding wrappers.\u001b[0m\n",
      "  logger.warn(\n"
     ]
    },
    {
     "data": {
      "image/png": "[encoded data removed]",
      "text/plain": [
       "<Figure size 640x480 with 1 Axes>"
      ]
     },
     "metadata": {},
     "output_type": "display_data"
    }
   ],
   "source": [
    "env = gym.make('highway-v0', render_mode='rgb_array')\n",
    "env.reset()\n",
    "for _ in range(3):\n",
    "    action = env.action_type.actions_indexes[\"IDLE\"]\n",
    "    obs, reward, done, truncated, info = env.step(action)\n",
    "    env.render()\n",
    "\n",
    "plt.imshow(env.render())\n",
    "plt.show()"
   ]
  },
  {
   "cell_type": "markdown",
   "metadata": {},
   "source": [
    "Exploring possible commands"
   ]
  },
  {
   "cell_type": "code",
   "execution_count": 3,
   "metadata": {},
   "outputs": [
    {
     "name": "stdout",
     "output_type": "stream",
     "text": [
      "{'action': {'type': 'DiscreteMetaAction'},\n",
      " 'centering_position': [0.3, 0.5],\n",
      " 'collision_reward': -1,\n",
      " 'controlled_vehicles': 1,\n",
      " 'duration': 40,\n",
      " 'ego_spacing': 2,\n",
      " 'high_speed_reward': 0.4,\n",
      " 'initial_lane_id': None,\n",
      " 'lane_change_reward': 0,\n",
      " 'lanes_count': 4,\n",
      " 'manual_control': False,\n",
      " 'normalize_reward': True,\n",
      " 'observation': {'type': 'Kinematics'},\n",
      " 'offroad_terminal': False,\n",
      " 'offscreen_rendering': False,\n",
      " 'other_vehicles_type': 'highway_env.vehicle.behavior.IDMVehicle',\n",
      " 'policy_frequency': 1,\n",
      " 'real_time_rendering': False,\n",
      " 'render_agent': True,\n",
      " 'reward_speed_range': [20, 30],\n",
      " 'right_lane_reward': 0.1,\n",
      " 'scaling': 5.5,\n",
      " 'screen_height': 150,\n",
      " 'screen_width': 600,\n",
      " 'show_trajectories': False,\n",
      " 'simulation_frequency': 15,\n",
      " 'vehicles_count': 50,\n",
      " 'vehicles_density': 1}\n"
     ]
    },
    {
     "name": "stderr",
     "output_type": "stream",
     "text": [
      "C:\\Users\\Francisco García\\anaconda3\\Lib\\site-packages\\gymnasium\\core.py:311: UserWarning: \u001b[33mWARN: env.config to get variables from other wrappers is deprecated and will be removed in v1.0, to get this variable you can do `env.unwrapped.config` for environment variables or `env.get_wrapper_attr('config')` that will search the reminding wrappers.\u001b[0m\n",
      "  logger.warn(\n"
     ]
    }
   ],
   "source": [
    "env = gym.make(\"highway-v0\", render_mode='rgb_array')\n",
    "pprint.pprint(env.config)"
   ]
  },
  {
   "cell_type": "code",
   "execution_count": 4,
   "metadata": {},
   "outputs": [
    {
     "data": {
      "text/plain": [
       "1"
      ]
     },
     "execution_count": 4,
     "metadata": {},
     "output_type": "execute_result"
    }
   ],
   "source": [
    "env.config['vehicles_density']"
   ]
  },
  {
   "cell_type": "code",
   "execution_count": 5,
   "metadata": {},
   "outputs": [
    {
     "data": {
      "image/png": "[encoded data removed]",
      "text/plain": [
       "<Figure size 640x480 with 1 Axes>"
      ]
     },
     "metadata": {},
     "output_type": "display_data"
    }
   ],
   "source": [
    "env.config[\"lanes_count\"] = 4\n",
    "env.reset()\n",
    "plt.imshow(env.render())\n",
    "plt.show()"
   ]
  },
  {
   "cell_type": "code",
   "execution_count": 6,
   "metadata": {},
   "outputs": [],
   "source": [
    "import gymnasium as gym\n",
    "\n",
    "env = gym.make(\"highway-v0\")"
   ]
  },
  {
   "cell_type": "markdown",
   "metadata": {},
   "source": [
    "Let's see how is the ovservation of the environment and the information that is recived"
   ]
  },
  {
   "cell_type": "code",
   "execution_count": 7,
   "metadata": {},
   "outputs": [
    {
     "name": "stdout",
     "output_type": "stream",
     "text": [
      "[[ 1.          0.89025605  0.75        0.3125      0.        ]\n",
      " [ 1.          0.09546012 -0.75       -0.02580946  0.        ]\n",
      " [ 1.          0.19255824 -0.25       -0.02870953  0.        ]\n",
      " [ 1.          0.2862246  -0.5        -0.0343262   0.        ]\n",
      " [ 1.          0.38946423 -0.75       -0.0198283   0.        ]]\n",
      "{'speed': 25, 'crashed': False, 'action': 0, 'rewards': {'collision_reward': 0.0, 'right_lane_reward': 1.0, 'high_speed_reward': 0.5, 'on_road_reward': 1.0}}\n"
     ]
    }
   ],
   "source": [
    "observation, info = env.reset()\n",
    "print(observation)\n",
    "print(info) # We will not use this"
   ]
  },
  {
   "cell_type": "markdown",
   "metadata": {},
   "source": [
    "In the matrix of observation we realized playing with the environment that each row represent a car and the columns values such as:\n",
    "\n",
    "\n",
    "- **Column 0:** 1 If the entity exists, 0 otherwise.\n",
    "  \n",
    "- **Column 1:** column representing the relative distance on the **x-axis**, only cars that are ahead of the main vehicle are displayed.\n",
    "  \n",
    "- **Column 2:** Column representing the **y-axis** from top to bottom: 0 is the highest and 1 is the lowest distance.\n",
    "  \n",
    "- **Column 3:** vehicle speed.\n",
    "  \n",
    "- **Column 4:** vertical speed of the vehicle (and then if the track is changed).\n",
    "\n",
    "Also we have information of the agent car in info, whicho looks like this:\n",
    "\n",
    "```python\n",
    "info = {\n",
    "    'speed': 29.999999999981878, \n",
    "    'crashed': False, \n",
    "    'action': 2,\n",
    "    'rewards': {'collision_reward': 0.0, 'right_lane_reward': 0.6666666666666666, 'high_speed_reward': 0.9946860962559725, 'on_road_reward': 1.0}\n",
    "}\n",
    "```\n",
    "About the reward:\n",
    "\n",
    "- 'right_lane_reward' : rises between 0, 1 each time you move to the right (down in the dibble), counts for 7% of the total reward. \n",
    "\n",
    "- 35% of the reward is speed.\n",
    "\n",
    "- 'collision_reward': 1.0 when crashed, otherwise 0.\n",
    "\n",
    "\n",
    "So To have a good reward we will like not to have collision and to go the fastest possible and the most to the right.\n"
   ]
  },
  {
   "cell_type": "code",
   "execution_count": 9,
   "metadata": {},
   "outputs": [
    {
     "name": "stdout",
     "output_type": "stream",
     "text": [
      "['action_space', 'class_name', 'close', 'env', 'get_wrapper_attr', 'has_reset', 'metadata', 'np_random', 'observation_space', 'render', 'render_mode', 'reset', 'reward_range', 'spec', 'step', 'unwrapped', 'wrapper_spec']\n",
      "Discrete(5)\n",
      "Box(-inf, inf, (5, 5), float32)\n"
     ]
    }
   ],
   "source": [
    "print([ m for m in dir(env) if not m.startswith('_')]) # take a look at the available methods of object env\n",
    "print(env.action_space)\n",
    "print(env.observation_space)"
   ]
  },
  {
   "cell_type": "markdown",
   "metadata": {},
   "source": [
    "After playing a bit we know that the 5 actions are:\n",
    "\n",
    "- Action 0 : do nothing\n",
    "\n",
    "- Action 1 : goes to left (up in draw)\n",
    "\n",
    "- Action 2 : goes to right (down in draw)\n",
    "\n",
    "- Action 3 : accelerate (max is 30, so it converge to 29.99)\n",
    "\n",
    "- Action 4 : decelerate (min is 20, so it converge to 20.001)\n",
    "\n",
    "```python\n",
    "ACTIONS_ALL = {\n",
    "    0: 'LANE_LEFT',\n",
    "    1: 'IDLE',\n",
    "    2: 'LANE_RIGHT',\n",
    "    3: 'FASTER',\n",
    "    4: 'SLOWER'\n",
    "}\n",
    "```"
   ]
  },
  {
   "cell_type": "markdown",
   "metadata": {},
   "source": [
    "In the following we play with the environment, moving the agent"
   ]
  },
  {
   "cell_type": "code",
   "execution_count": 10,
   "metadata": {},
   "outputs": [],
   "source": [
    "env = gym.make(\"highway-v0\", render_mode='rgb_array')\n",
    "\n",
    "# Reset the environment to get the initial state\n",
    "state = env.reset()\n",
    "\n",
    "# Now, env.render() will return pixel data\n",
    "pixel_data = env.render()"
   ]
  },
  {
   "cell_type": "code",
   "execution_count": 11,
   "metadata": {},
   "outputs": [
    {
     "data": {
      "image/png": "[encoded data removed]",
      "text/plain": [
       "<Figure size 640x480 with 1 Axes>"
      ]
     },
     "metadata": {},
     "output_type": "display_data"
    }
   ],
   "source": [
    "plt.imshow(pixel_data)\n",
    "plt.title(\"Rendered Pixel Data from Gym Environment\")\n",
    "plt.show()"
   ]
  },
  {
   "cell_type": "code",
   "execution_count": 12,
   "metadata": {},
   "outputs": [
    {
     "data": {
      "image/png": "[encoded data removed]",
      "text/plain": [
       "<Figure size 640x480 with 1 Axes>"
      ]
     },
     "metadata": {},
     "output_type": "display_data"
    },
    {
     "name": "stdout",
     "output_type": "stream",
     "text": [
      "Observation : [[ 1.          1.          0.25        0.26068053  0.        ]\n",
      " [ 1.          0.10624425 -0.25        0.00963116  0.        ]\n",
      " [ 1.          0.19514434  0.17002346 -0.0145604   0.03919455]\n",
      " [ 1.          0.328362   -0.25        0.03025704  0.        ]\n",
      " [ 1.          0.4244611   0.          0.01494697  0.        ]]\n",
      "Reward : 0.7116739868390409\n",
      "Terminated : False\n",
      "info : {'speed': 20.8544411731307, 'crashed': False, 'action': 4, 'rewards': {'collision_reward': 0.0, 'right_lane_reward': 0.3333333333333333, 'high_speed_reward': 0.08544411731306986, 'on_road_reward': 1.0}}\n"
     ]
    }
   ],
   "source": [
    "observation, reward, terminated, truncated, info = env.step(4)\n",
    "plt.imshow(env.render())\n",
    "plt.show()\n",
    "print(\"Observation : {}\".format(observation))\n",
    "print(\"Reward : {}\".format(reward))\n",
    "\n",
    "print(\"Terminated : {}\".format(terminated))\n",
    "print(\"info : {}\".format(info))"
   ]
  },
  {
   "cell_type": "markdown",
   "metadata": {},
   "source": [
    "Understanding other parameters in of the ``env``."
   ]
  },
  {
   "cell_type": "code",
   "execution_count": 13,
   "metadata": {},
   "outputs": [
    {
     "name": "stdout",
     "output_type": "stream",
     "text": [
      "Action Space: Discrete(5)\n",
      "Action Space Type: <class 'gymnasium.spaces.discrete.Discrete'>\n",
      "Number of Actions: 5\n",
      "\n",
      "Observation Space: Box(-inf, inf, (5, 5), float32)\n",
      "Observation Space Type: <class 'gymnasium.spaces.box.Box'>\n",
      "State Bounds: [[-inf -inf -inf -inf -inf]\n",
      " [-inf -inf -inf -inf -inf]\n",
      " [-inf -inf -inf -inf -inf]\n",
      " [-inf -inf -inf -inf -inf]\n",
      " [-inf -inf -inf -inf -inf]] [[inf inf inf inf inf]\n",
      " [inf inf inf inf inf]\n",
      " [inf inf inf inf inf]\n",
      " [inf inf inf inf inf]\n",
      " [inf inf inf inf inf]]\n"
     ]
    }
   ],
   "source": [
    "import gymnasium as gym\n",
    "\n",
    "env = gym.make(\"highway-v0\")\n",
    "\n",
    "# Actions\n",
    "print(\"Action Space:\", env.action_space)\n",
    "print(\"Action Space Type:\", type(env.action_space))\n",
    "if isinstance(env.action_space, gym.spaces.Discrete):\n",
    "    print(\"Number of Actions:\", env.action_space.n)\n",
    "elif isinstance(env.action_space, gym.spaces.Box):\n",
    "    print(\"Action Bounds:\", env.action_space.low, env.action_space.high)\n",
    "\n",
    "# States\n",
    "print(\"\\nObservation Space:\", env.observation_space)\n",
    "print(\"Observation Space Type:\", type(env.observation_space))\n",
    "if isinstance(env.observation_space, gym.spaces.Discrete):\n",
    "    print(\"Number of States:\", env.observation_space.n)\n",
    "elif isinstance(env.observation_space, gym.spaces.Box):\n",
    "    print(\"State Bounds:\", env.observation_space.low, env.observation_space.high)\n"
   ]
  },
  {
   "cell_type": "markdown",
   "metadata": {},
   "source": [
    "Aplying all the steps in order (from 0 to 4), and see how the car moves and the environment changes"
   ]
  },
  {
   "cell_type": "code",
   "execution_count": 14,
   "metadata": {},
   "outputs": [
    {
     "data": {
      "image/png": "[encoded data removed]",
      "text/plain": [
       "<Figure size 640x480 with 1 Axes>"
      ]
     },
     "metadata": {},
     "output_type": "display_data"
    },
    {
     "name": "stdout",
     "output_type": "stream",
     "text": [
      "Episode ended after this step. Resetting environment.\n"
     ]
    }
   ],
   "source": [
    "import gymnasium as gym\n",
    "import matplotlib.pyplot as plt\n",
    "from IPython.display import clear_output\n",
    "import time\n",
    "\n",
    "# Create the environment\n",
    "env = gym.make(\"highway-v0\", render_mode='rgb_array')\n",
    "\n",
    "# Reset the environment to get the initial state\n",
    "observation = env.reset()\n",
    "\n",
    "# Apply action 0 ten times\n",
    "lista = []\n",
    "for step in range(10):\n",
    "    observation, reward, terminated, truncated, info = env.step(step%4)\n",
    "    #print(env.observation_space)\n",
    "    lista.append(observation)\n",
    "    clear_output(wait=True)\n",
    "    plt.imshow(env.render())\n",
    "    plt.title(f\"Step: {step + 1}\")\n",
    "    plt.show()\n",
    "    \n",
    "    # Pause a bit between each frame\n",
    "    time.sleep(0.1)  # Adjust the sleep time to your liking\n",
    "\n",
    "    # Check if the episode has ended (either through termination or truncation)\n",
    "    if terminated or truncated:\n",
    "        print(\"Episode ended after this step. Resetting environment.\")\n",
    "        observation = env.reset()\n",
    "\n",
    "# Close the environment when done\n",
    "env.close()"
   ]
  },
  {
   "cell_type": "markdown",
   "metadata": {},
   "source": [
    "# Defining a random agent"
   ]
  },
  {
   "cell_type": "markdown",
   "metadata": {},
   "source": [
    "First of all we will start with a random agent ``RandomAgent``. Also we use some fonction to make him interact with the environment ``run_one_episode`` and a fonction to evaluate the performancee of the agent ``eval_agent``."
   ]
  },
  {
   "cell_type": "code",
   "execution_count": 15,
   "metadata": {},
   "outputs": [],
   "source": [
    "from utilities import * \n",
    "from copy import deepcopy\n",
    "\n",
    "import torch\n",
    "import torch.nn as nn\n",
    "import torch.nn.functional as F\n",
    "import torch.optim as optim\n",
    "import numpy as np\n",
    "import random"
   ]
  },
  {
   "cell_type": "code",
   "execution_count": 24,
   "metadata": {},
   "outputs": [],
   "source": [
    "def eval_agent(agent, env, n_sim=5):\n",
    "    env_copy = deepcopy(env)\n",
    "    episode_rewards = np.zeros(n_sim)\n",
    "    for i in range(n_sim):\n",
    "        state, _ = env_copy.reset()\n",
    "        reward_sum = 0\n",
    "        done = False\n",
    "        while not done: \n",
    "            action = agent.get_action(state)\n",
    "            state, reward, terminated, truncated, _ = env_copy.step(action)\n",
    "            reward_sum += reward\n",
    "            done = terminated or truncated\n",
    "        episode_rewards[i] = reward_sum\n",
    "    return episode_rewards"
   ]
  },
  {
   "cell_type": "code",
   "execution_count": 17,
   "metadata": {},
   "outputs": [],
   "source": [
    "class RandomAgent: \n",
    "    def __init__(self, observation_space, action_space):\n",
    "        self.action_space = action_space\n",
    "        return\n",
    "    \n",
    "    def get_action(self, state):\n",
    "        return self.action_space.sample()\n",
    "    \n",
    "    def update(self, *data):\n",
    "        pass"
   ]
  },
  {
   "cell_type": "code",
   "execution_count": 18,
   "metadata": {
    "scrolled": true
   },
   "outputs": [
    {
     "data": {
      "image/png": "[encoded data removed]",
      "text/plain": [
       "<Figure size 640x480 with 1 Axes>"
      ]
     },
     "metadata": {},
     "output_type": "display_data"
    },
    {
     "name": "stdout",
     "output_type": "stream",
     "text": [
      "Episode length 4.954199541651012\n"
     ]
    }
   ],
   "source": [
    "#env = env = gym.make(\"CartPole-v1\", render_mode='rgb_array')\n",
    "env = gym.make(\"highway-v0\", render_mode='rgb_array')\n",
    "agent = RandomAgent(env.observation_space, env.action_space)\n",
    "\n",
    "def run_one_episode(env, agent, display=True):        \n",
    "    display_env = deepcopy(env)        \n",
    "    done = False  \n",
    "    state, _ = display_env.reset()        \n",
    "\n",
    "    rewards = 0        \n",
    "\n",
    "    while not done:        \n",
    "        action = agent.get_action(state)        \n",
    "        state, reward, done, _, _ = display_env.step(action)    \n",
    "        rewards += reward        \n",
    "        if display:         \n",
    "            clear_output(wait=True)        \n",
    "            plt.imshow(display_env.render())        \n",
    "            plt.show()        \n",
    "    if display:        \n",
    "        display_env.close()        \n",
    "    print(f'Episode length {rewards}')        \n",
    "    \n",
    "run_one_episode(env, agent, display=True)         "
   ]
  },
  {
   "cell_type": "code",
   "execution_count": 26,
   "metadata": {},
   "outputs": [],
   "source": [
    "print(f'Average over 5 runs : {np.mean(eval_agent(agent, env))}') "
   ]
  },
  {
   "cell_type": "markdown",
   "metadata": {},
   "source": [
    "# Q net"
   ]
  },
  {
   "cell_type": "markdown",
   "metadata": {},
   "source": [
    "In this part we define the ``ReplayBuffer`` and the ``Net`` that then our Deep-Q-Agent will use"
   ]
  },
  {
   "cell_type": "code",
   "execution_count": 29,
   "metadata": {},
   "outputs": [],
   "source": [
    "class ReplayBuffer:\n",
    "    def __init__(self, capacity):\n",
    "        self.capacity = capacity\n",
    "        self.memory = []\n",
    "        self.position = 0\n",
    "\n",
    "    def push(self, state, action, reward, terminated, next_state):\n",
    "        \"\"\"Saves a transition.\"\"\"\n",
    "        if len(self.memory) < self.capacity:\n",
    "            self.memory.append(None)\n",
    "        self.memory[self.position] = (state, action, reward, terminated, next_state)\n",
    "        self.position = (self.position + 1) % self.capacity\n",
    "\n",
    "    def sample(self, batch_size):\n",
    "        return random.choices(self.memory, k=batch_size)\n",
    "\n",
    "    def __len__(self):\n",
    "        return len(self.memory)"
   ]
  },
  {
   "cell_type": "markdown",
   "metadata": {},
   "source": [
    "With all this finally we can define our Deep Q Learning Agent ``DQN``"
   ]
  },
  {
   "cell_type": "code",
   "execution_count": 30,
   "metadata": {},
   "outputs": [],
   "source": [
    "class Net(nn.Module):\n",
    "    \"\"\"\n",
    "    Basic neural net.\n",
    "    \"\"\"\n",
    "    def __init__(self, obs_size, hidden_size1, hidden_size2, n_actions):\n",
    "        super(Net, self).__init__()\n",
    "        self.net = nn.Sequential(\n",
    "            nn.Linear(obs_size, hidden_size1),\n",
    "            nn.ReLU(),\n",
    "            nn.Linear(hidden_size1, hidden_size2),\n",
    "            #nn.ReLU(),\n",
    "            #nn.Linear(hidden_size2, hidden_size2),\n",
    "            nn.ReLU(),\n",
    "            nn.Linear(hidden_size2, n_actions)\n",
    "        )\n",
    "\n",
    "    def forward(self, x):\n",
    "        #print(f\"Input shape at Net.forward: {x.shape}\")\n",
    "        return self.net(x)"
   ]
  },
  {
   "cell_type": "code",
   "execution_count": 31,
   "metadata": {},
   "outputs": [],
   "source": [
    "class DQN: \n",
    "    def __init__(self,\n",
    "                action_space,\n",
    "                observation_space,\n",
    "                gamma,\n",
    "                batch_size,\n",
    "                buffer_capacity,\n",
    "                update_target_every, \n",
    "                epsilon_start, \n",
    "                decrease_epsilon_factor, \n",
    "                epsilon_min,\n",
    "                learning_rate,\n",
    "                ):\n",
    "        self.action_space = action_space\n",
    "        self.observation_space = observation_space\n",
    "        self.gamma = gamma\n",
    "        \n",
    "        self.batch_size = batch_size\n",
    "        self.buffer_capacity = buffer_capacity\n",
    "        self.update_target_every = update_target_every\n",
    "        \n",
    "        self.epsilon_start = epsilon_start\n",
    "        self.decrease_epsilon_factor = decrease_epsilon_factor # larger -> more exploration\n",
    "        self.epsilon_min = epsilon_min\n",
    "        \n",
    "        self.learning_rate = learning_rate\n",
    "        \n",
    "        self.reset()\n",
    "        \n",
    "    def get_action(self, state):\n",
    "        \"\"\"\n",
    "        Return action according to an epsilon-greedy exploration policy\n",
    "        \"\"\"\n",
    "        if np.random.rand() < self.epsilon: \n",
    "            return env.action_space.sample()\n",
    "            \n",
    "        return self.get_best_action(state)\n",
    "        state = torch.tensor(state).float().flatten().unsqueeze(0)  # Flatten the state and add batch dimension\n",
    "        #print(f\"Shape before NN in act: {state.shape}\")\n",
    "        q_values = self.q_net(state)\n",
    "        #print('q_values', q_values)\n",
    "        return torch.argmax(q_values).item()\n",
    "        #return np.argmax(self.get_q(state))\n",
    "\n",
    "    def get_best_action(self, state):       \n",
    "        state = torch.tensor(state).float().flatten().unsqueeze(0)  # Flatten the state and add batch dimension\n",
    "        #print(f\"Shape before NN in act: {state.shape}\")\n",
    "        q_values = self.q_net(state)\n",
    "        #print('q_values', q_values)\n",
    "        return torch.argmax(q_values).item()\n",
    "        #return np.argmax(self.get_q(state))\n",
    "\n",
    "    def update(self, state, action, reward, terminated, next_state):\n",
    "        state_tensor = torch.tensor(state).float().unsqueeze(0)\n",
    "        action_tensor = torch.tensor([[action]], dtype=torch.int64)  # action should be long for gather\n",
    "        reward_tensor = torch.tensor([reward]).float()\n",
    "        terminated_tensor = torch.tensor([terminated], dtype=torch.int64).float()  # make sure terminated is also float for consistency\n",
    "        next_state_tensor = torch.tensor(next_state).float().unsqueeze(0)\n",
    "\n",
    "        self.buffer.push(state_tensor, action_tensor, reward_tensor, terminated_tensor, next_state_tensor)\n",
    "\n",
    "        # add data to replay buffer\n",
    "        # self.buffer.push(torch.tensor(state).unsqueeze(0), \n",
    "        #                    torch.tensor([[action]], dtype=torch.int64), \n",
    "        #                    torch.tensor([reward]), \n",
    "        #                    torch.tensor([terminated], dtype=torch.int64), \n",
    "        #                    torch.tensor(next_state).unsqueeze(0),\n",
    "        #                   )\n",
    "\n",
    "        #print('self.buffer.memory', self.buffer.memory)\n",
    "\n",
    "        if len(self.buffer) < self.batch_size:\n",
    "            return np.inf\n",
    "        # get batch\n",
    "        transitions = self.buffer.sample(self.batch_size)\n",
    "\n",
    "        # Compute loss - TO BE IMPLEMENTED!\n",
    "\n",
    "        state_batch, action_batch, reward_batch, terminated_batch, next_state_batch = tuple(\n",
    "            [torch.cat(data) for data in zip(*transitions)]\n",
    "        )\n",
    "        # print('state_batch: ')\n",
    "        # print(state_batch)\n",
    "        # print('type(state_batch) ', type(state_batch))\n",
    "        #values  = self.q_net.forward(state_batch).gather(1, action_batch)\n",
    "        \n",
    "\n",
    "        # Flatten the state batch from [128, 5, 5] to [128, 25]\n",
    "        state_batch = state_batch.view(state_batch.size(0), -1)  # Reshape to [batch_size, 25]\n",
    "        #print('state_batch', state_batch)\n",
    "\n",
    "        # Ensure action_batch is in the correct shape for gather\n",
    "        action_batch = action_batch.long()  # Ensure action_batch is a tensor of long integers\n",
    "        action_batch = action_batch.squeeze()  # Remove unnecessary singleton dimensions\n",
    "        if action_batch.ndim == 1:\n",
    "            action_batch = action_batch.unsqueeze(1)  # Ensure shape is [128, 1]\n",
    "\n",
    "        #action_batch = action_batch.unsqueeze(1)  # Reshape from [128] to [128, 1]\n",
    "\n",
    "        # Calculate Q-values for current states\n",
    "        q_values = self.q_net(state_batch)\n",
    "\n",
    "        # Q-values shape: torch.Size([16, 5])\n",
    "        # Action batch shape: torch.Size([16, 1, 1])\n",
    "        \n",
    "        #print(f\"Q-values shape: {q_values.shape}\")  # Expected to be [128, n_actions]\n",
    "        #print(f\"Action batch shape: {action_batch.shape}\")  # Expected to be [128, 1]\n",
    "        \n",
    "        values = q_values.gather(1, action_batch)  # Now action_batch is correctly shaped\n",
    "        \n",
    "        #values = self.q_net(state_batch).gather(1, action_batch.unsqueeze(1))\n",
    "        \n",
    "        # Compute the ideal Q values\n",
    "        next_state_batch = next_state_batch.view(next_state_batch.size(0), -1)  # Reshape to [batch_size, 25]\n",
    "        with torch.no_grad():\n",
    "            terminated_batch = terminated_batch.float()\n",
    "            next_state_values = (1 - terminated_batch) * self.target_net(next_state_batch).max(1)[0]\n",
    "            targets = next_state_values * self.gamma + reward_batch\n",
    "\n",
    "        loss = self.loss_function(values, targets.unsqueeze(1))\n",
    "\n",
    "        # Optimize the model \n",
    "        self.optimizer.zero_grad()\n",
    "        loss.backward()\n",
    "        #torch.nn.utils.clip_grad_value_(self.q_net.parameters(), 100)\n",
    "        for param in self.q_net.parameters():\n",
    "            param.grad.data.clamp_(-1, 1)\n",
    "        self.optimizer.step()\n",
    "        \n",
    "        if not((self.n_steps+1) % self.update_target_every): \n",
    "            self.target_net.load_state_dict(self.q_net.state_dict())\n",
    "            \n",
    "        self.decrease_epsilon()\n",
    "            \n",
    "        self.n_steps += 1\n",
    "        if terminated: \n",
    "            self.n_eps += 1\n",
    "\n",
    "        return loss.detach().numpy()\n",
    "    \n",
    "    def get_q(self, state):\n",
    "        \"\"\"\n",
    "        Compute Q function for a states\n",
    "        \"\"\"\n",
    "        state_tensor = torch.tensor(state).unsqueeze(0)\n",
    "        with torch.no_grad():\n",
    "            output = self.q_net.forward(state_tensor) # shape (1,  n_actions)\n",
    "        return output.numpy()[0]  # shape  (n_actions)\n",
    "    \n",
    "    def decrease_epsilon(self):\n",
    "        self.epsilon = self.epsilon_min + (self.epsilon_start - self.epsilon_min) * (\n",
    "                        np.exp(-1. * self.n_eps / self.decrease_epsilon_factor ) )\n",
    "    \n",
    "    def reset(self):\n",
    "        hidden_size = 128\n",
    "        \n",
    "        #obs_size = self.observation_space.shape[0]\n",
    "        obs_size = self.observation_space.shape[0] * self.observation_space.shape[1]  # 5*5 in your case\n",
    "        \n",
    "        n_actions = self.action_space.n\n",
    "        \n",
    "        self.buffer = ReplayBuffer(self.buffer_capacity)\n",
    "        self.q_net =  Net(obs_size, hidden_size, hidden_size, n_actions)\n",
    "        self.target_net = Net(obs_size, hidden_size, hidden_size, n_actions)\n",
    "        \n",
    "        self.loss_function = nn.MSELoss()\n",
    "        self.optimizer = optim.Adam(params=self.q_net.parameters(), lr=self.learning_rate)\n",
    "        \n",
    "        self.epsilon = self.epsilon_start\n",
    "        self.n_steps = 0\n",
    "        self.n_eps = 0\n"
   ]
  },
  {
   "cell_type": "code",
   "execution_count": 45,
   "metadata": {},
   "outputs": [
    {
     "name": "stderr",
     "output_type": "stream",
     "text": [
      "C:\\Users\\Francisco García\\anaconda3\\Lib\\site-packages\\gymnasium\\core.py:311: UserWarning: \u001b[33mWARN: env.config to get variables from other wrappers is deprecated and will be removed in v1.0, to get this variable you can do `env.unwrapped.config` for environment variables or `env.get_wrapper_attr('config')` that will search the reminding wrappers.\u001b[0m\n",
      "  logger.warn(\n"
     ]
    }
   ],
   "source": [
    "env = gym.make(\"highway-v0\", render_mode='rgb_array')\n",
    "env.config['vehicles_density'] = 1.5\n",
    "action_space = env.action_space                            # Discrete(5)\n",
    "observation_space = env.observation_space                  # Box(-inf, inf, (5, 5), float32)\n",
    "\n",
    "gamma = 0.99\n",
    "batch_size = 64#128\n",
    "buffer_capacity = 10_000\n",
    "update_target_every = 512#32\n",
    "\n",
    "epsilon_start = 0.99\n",
    "decrease_epsilon_factor = 1000 # 300\n",
    "epsilon_min = 0.03\n",
    "\n",
    "learning_rate = 1e-3 / 2\n",
    "\n",
    "arguments = (action_space,\n",
    "            observation_space,\n",
    "            gamma,\n",
    "            batch_size,\n",
    "            buffer_capacity,\n",
    "            update_target_every, \n",
    "            epsilon_start, \n",
    "            decrease_epsilon_factor, \n",
    "            epsilon_min,\n",
    "            learning_rate,\n",
    "        )\n",
    "\n",
    "N_episodes = 1200 # 800 # 1200 episodes hace 95 mil updates\n",
    "\n",
    "agent = DQN(*arguments)"
   ]
  },
  {
   "cell_type": "code",
   "execution_count": 46,
   "metadata": {},
   "outputs": [],
   "source": [
    "def eval_agent(agent, env, n_sim=5):\n",
    "    env_copy = deepcopy(env)\n",
    "    episode_rewards = np.zeros(n_sim)\n",
    "    for i in range(n_sim):\n",
    "        state, _ = env_copy.reset()\n",
    "        reward_sum = 0\n",
    "        done = False\n",
    "        print()\n",
    "        while not done: \n",
    "            #print(\".\",end=\"\")\n",
    "            action = agent.get_best_action(state)\n",
    "            state, reward, terminated, truncated, _ = env_copy.step(action)\n",
    "            reward_sum += reward\n",
    "            done = terminated# or truncated\n",
    "        episode_rewards[i] = reward_sum\n",
    "    return episode_rewards"
   ]
  },
  {
   "cell_type": "code",
   "execution_count": 69,
   "metadata": {},
   "outputs": [],
   "source": [
    "agent.epsilon = 0.9\n",
    "agent.n_eps = 0"
   ]
  },
  {
   "cell_type": "code",
   "execution_count": 71,
   "metadata": {},
   "outputs": [
    {
     "data": {
      "text/plain": [
       "0"
      ]
     },
     "execution_count": 71,
     "metadata": {},
     "output_type": "execute_result"
    }
   ],
   "source": [
    "agent.n_eps"
   ]
  },
  {
   "cell_type": "code",
   "execution_count": 92,
   "metadata": {
    "scrolled": true
   },
   "outputs": [
    {
     "name": "stdout",
     "output_type": "stream",
     "text": [
      "epsisode 9, epsilon 0.3165558008233621, losses[-1] = 131.3955078125\n",
      "epsisode 19, epsilon 0.3137045229650295, losses[-1] = 130.93487548828125\n",
      "epsisode 29, epsilon 0.3108816157954144, losses[-1] = 112.25703430175781\n",
      "epsisode 39, epsilon 0.3080867970214477, losses[-1] = 131.4219207763672\n",
      "epsisode 49, epsilon 0.30531978715892294, losses[-1] = 113.31036376953125\n",
      "epsisode 59, epsilon 0.30258030950454806, losses[-1] = 95.85786437988281\n",
      "epsisode 69, epsilon 0.29986809010827453, losses[-1] = 121.76524353027344\n",
      "epsisode 79, epsilon 0.2971828577459028, losses[-1] = 61.196693420410156\n",
      "epsisode 89, epsilon 0.2945243438919586, losses[-1] = 42.05240249633789\n",
      "epsisode 99, epsilon 0.2918922826928414, losses[-1] = 64.46322631835938\n",
      "epsisode 109, epsilon 0.28928641094023777, losses[-1] = 66.41526794433594\n",
      "epsisode 119, epsilon 0.2867064680448008, losses[-1] = 80.646240234375\n",
      "epsisode 129, epsilon 0.28415219601009123, losses[-1] = 99.16561126708984\n",
      "epsisode 139, epsilon 0.28162333940677675, losses[-1] = 106.35986328125\n",
      "epsisode 149, epsilon 0.2791196453470898, losses[-1] = 67.81742858886719\n",
      "epsisode 159, epsilon 0.276640863459538, losses[-1] = 108.46749877929688\n",
      "epsisode 169, epsilon 0.2741867458638668, losses[-1] = 86.06028747558594\n",
      "epsisode 179, epsilon 0.2717570471462717, losses[-1] = 51.765804290771484\n",
      "epsisode 189, epsilon 0.2693515243348561, losses[-1] = 73.60782623291016\n",
      "epsisode 199, epsilon 0.2669699368753342, losses[-1] = 69.72123718261719\n",
      "epsisode 209, epsilon 0.26461204660697546, losses[-1] = 81.75654602050781\n",
      "epsisode 219, epsilon 0.2622776177387881, losses[-1] = 77.8160629272461\n",
      "epsisode 229, epsilon 0.25996641682594, losses[-1] = 86.99176788330078\n",
      "epsisode 239, epsilon 0.2576782127464138, losses[-1] = 137.08242797851562\n",
      "epsisode 249, epsilon 0.2554127766778947, losses[-1] = 54.78194046020508\n",
      "epsisode 259, epsilon 0.253169882074888, losses[-1] = 82.24501037597656\n",
      "epsisode 269, epsilon 0.2509493046460643, losses[-1] = 74.22171020507812\n",
      "epsisode 279, epsilon 0.24875082233183024, losses[-1] = 63.3680534362793\n",
      "epsisode 289, epsilon 0.2465742152821223, losses[-1] = 60.082359313964844\n",
      "epsisode 299, epsilon 0.24441926583442172, losses[-1] = 71.70723724365234\n",
      "epsisode 309, epsilon 0.24228575849198794, losses[-1] = 73.54039764404297\n",
      "epsisode 319, epsilon 0.2401734799023087, losses[-1] = 93.1400375366211\n",
      "epsisode 329, epsilon 0.23808221883576486, losses[-1] = 66.406005859375\n",
      "epsisode 339, epsilon 0.23601176616450698, losses[-1] = 101.75434112548828\n",
      "epsisode 349, epsilon 0.23396191484154263, losses[-1] = 114.09403991699219\n",
      "epsisode 359, epsilon 0.23193245988003122, losses[-1] = 69.44314575195312\n",
      "epsisode 369, epsilon 0.2299231983327855, losses[-1] = 79.0892333984375\n",
      "epsisode 379, epsilon 0.22793392927197623, losses[-1] = 51.36283874511719\n",
      "epsisode 389, epsilon 0.22596445376903965, losses[-1] = 22.681907653808594\n",
      "epsisode 399, epsilon 0.2240145748747842, losses[-1] = 71.57323455810547\n",
      "epsisode 409, epsilon 0.22208409759969563, losses[-1] = 118.04569244384766\n",
      "epsisode 419, epsilon 0.22017282889443765, losses[-1] = 61.005889892578125\n",
      "epsisode 429, epsilon 0.21828057763054695, losses[-1] = 42.90164566040039\n",
      "epsisode 439, epsilon 0.21640715458132034, losses[-1] = 43.487552642822266\n",
      "epsisode 449, epsilon 0.21455237240289166, losses[-1] = 109.39623260498047\n",
      "epsisode 459, epsilon 0.21271604561549745, losses[-1] = 58.268699645996094\n",
      "epsisode 469, epsilon 0.21089799058492864, losses[-1] = 71.99068450927734\n",
      "epsisode 479, epsilon 0.20909802550416717, losses[-1] = 78.97967529296875\n",
      "epsisode 489, epsilon 0.20731597037520497, losses[-1] = 76.4039535522461\n",
      "epsisode 499, epsilon 0.20555164699104408, losses[-1] = 82.4128189086914\n",
      "epsisode 509, epsilon 0.20380487891787585, losses[-1] = 51.03001403808594\n",
      "epsisode 519, epsilon 0.20207549147743725, losses[-1] = 62.88341522216797\n",
      "epsisode 529, epsilon 0.20036331172954314, losses[-1] = 53.77227783203125\n",
      "epsisode 539, epsilon 0.19866816845479188, losses[-1] = 62.056785583496094\n",
      "epsisode 549, epsilon 0.19698989213744336, losses[-1] = 112.88845825195312\n",
      "epsisode 559, epsilon 0.19532831494846734, losses[-1] = 150.4052276611328\n",
      "epsisode 569, epsilon 0.19368327072876018, losses[-1] = 68.20886993408203\n",
      "epsisode 579, epsilon 0.1920545949725291, losses[-1] = 74.06324768066406\n",
      "epsisode 589, epsilon 0.1904421248108412, losses[-1] = 127.45926666259766\n",
      "epsisode 599, epsilon 0.1888456989953366, losses[-1] = 77.47085571289062\n",
      "epsisode 609, epsilon 0.18726515788210335, losses[-1] = 54.1673583984375\n",
      "epsisode 619, epsilon 0.18570034341571312, losses[-1] = 64.5587158203125\n",
      "epsisode 629, epsilon 0.18415109911341515, losses[-1] = 32.96588897705078\n",
      "epsisode 639, epsilon 0.1826172700494882, losses[-1] = 60.75584030151367\n",
      "epsisode 649, epsilon 0.18109870283974766, losses[-1] = 256.99566650390625\n",
      "epsisode 659, epsilon 0.1795952456262071, losses[-1] = 88.05754089355469\n",
      "epsisode 669, epsilon 0.1781067480618923, losses[-1] = 39.72319793701172\n",
      "epsisode 679, epsilon 0.17663306129580642, losses[-1] = 52.35608673095703\n",
      "epsisode 689, epsilon 0.17517403795804468, losses[-1] = 89.79276275634766\n",
      "epsisode 699, epsilon 0.17372953214505757, losses[-1] = 80.37815856933594\n",
      "epsisode 709, epsilon 0.17229939940505995, losses[-1] = 36.82964324951172\n",
      "epsisode 719, epsilon 0.17088349672358605, losses[-1] = 83.88778686523438\n",
      "epsisode 729, epsilon 0.16948168250918785, losses[-1] = 245.49160766601562\n",
      "epsisode 739, epsilon 0.16809381657927566, losses[-1] = 119.49644470214844\n",
      "epsisode 749, epsilon 0.16671976014609996, losses[-1] = 51.8931770324707\n",
      "epsisode 759, epsilon 0.1653593758028724, losses[-1] = 40.84192657470703\n",
      "epsisode 769, epsilon 0.16401252751002499, losses[-1] = 30.378950119018555\n",
      "epsisode 779, epsilon 0.16267908058160604, losses[-1] = 64.5071792602539\n",
      "epsisode 789, epsilon 0.16135890167181155, losses[-1] = 61.56052780151367\n",
      "epsisode 799, epsilon 0.16005185876165032, losses[-1] = 116.56486511230469\n",
      "epsisode 809, epsilon 0.15875782114574222, losses[-1] = 46.546695709228516\n",
      "epsisode 819, epsilon 0.15747665941924718, losses[-1] = 34.496376037597656\n",
      "epsisode 829, epsilon 0.156208245464925, losses[-1] = 195.85470581054688\n",
      "epsisode 839, epsilon 0.15495245244032316, losses[-1] = 46.337886810302734\n",
      "epsisode 849, epsilon 0.1537091547650928, losses[-1] = 72.51614379882812\n",
      "epsisode 859, epsilon 0.1524782281084302, losses[-1] = 49.22773361206055\n",
      "epsisode 869, epsilon 0.15125954937664404, losses[-1] = 82.3038101196289\n",
      "epsisode 879, epsilon 0.15005299670084543, losses[-1] = 44.367889404296875\n",
      "epsisode 889, epsilon 0.14885844942476145, losses[-1] = 50.23719024658203\n",
      "epsisode 899, epsilon 0.14767578809266896, losses[-1] = 42.476661682128906\n",
      "epsisode 909, epsilon 0.14650489443744924, losses[-1] = 66.19935607910156\n",
      "epsisode 919, epsilon 0.145345651368761, losses[-1] = 38.835506439208984\n",
      "epsisode 929, epsilon 0.14419794296133134, losses[-1] = 45.54310607910156\n",
      "epsisode 939, epsilon 0.14306165444336308, losses[-1] = 53.72737121582031\n",
      "epsisode 949, epsilon 0.14193667218505748, losses[-1] = 72.67401123046875\n",
      "epsisode 959, epsilon 0.14082288368725132, losses[-1] = 65.7916259765625\n",
      "epsisode 969, epsilon 0.13972017757016653, losses[-1] = 58.47184753417969\n",
      "epsisode 979, epsilon 0.1386284435622726, losses[-1] = 223.83416748046875\n",
      "epsisode 989, epsilon 0.13754757248925883, losses[-1] = 39.57023620605469\n",
      "epsisode 999, epsilon 0.13647745626311733, losses[-1] = 35.008705139160156\n",
      "epsisode 1009, epsilon 0.13541798787133358, losses[-1] = 76.80438232421875\n",
      "epsisode 1019, epsilon 0.13436906136618568, losses[-1] = 224.85678100585938\n",
      "epsisode 1029, epsilon 0.13333057185414882, losses[-1] = 42.81354522705078\n",
      "epsisode 1039, epsilon 0.1323024154854065, losses[-1] = 148.58563232421875\n",
      "epsisode 1049, epsilon 0.13128448944346502, losses[-1] = 115.75924682617188\n",
      "epsisode 1059, epsilon 0.13027669193487193, losses[-1] = 48.714298248291016\n",
      "epsisode 1069, epsilon 0.12927892217903647, losses[-1] = 88.41716766357422\n",
      "epsisode 1079, epsilon 0.12829108039815168, losses[-1] = 46.761024475097656\n",
      "epsisode 1089, epsilon 0.12731306780721616, losses[-1] = 32.83448028564453\n",
      "epsisode 1099, epsilon 0.12634478660415588, losses[-1] = 34.351829528808594\n",
      "epsisode 1109, epsilon 0.1253861399600436, losses[-1] = 37.7940673828125\n",
      "epsisode 1119, epsilon 0.12443703200941605, losses[-1] = 16.666515350341797\n",
      "epsisode 1129, epsilon 0.12349736784068721, losses[-1] = 83.58639526367188\n",
      "epsisode 1139, epsilon 0.1225670534866572, losses[-1] = 254.92481994628906\n",
      "epsisode 1149, epsilon 0.1216459959151153, losses[-1] = 312.2865905761719\n",
      "epsisode 1159, epsilon 0.12073410301953684, losses[-1] = 37.57848358154297\n",
      "epsisode 1169, epsilon 0.11983128360987232, losses[-1] = 94.08660125732422\n",
      "epsisode 1179, epsilon 0.11893744740342846, losses[-1] = 16.807109832763672\n",
      "epsisode 1189, epsilon 0.11805250501583976, losses[-1] = 90.8739013671875\n",
      "epsisode 1199, epsilon 0.1171763679521299, losses[-1] = 123.33646392822266\n"
     ]
    }
   ],
   "source": [
    "def train(env, agent, N_episodes, eval_every=10, reward_threshold=300):\n",
    "    total_time = 0\n",
    "    state, _ = env.reset()\n",
    "    losses = []\n",
    "    done = False\n",
    "    for ep in range(N_episodes):\n",
    "        #print(\".\",end=\"\")\n",
    "        #if done: break\n",
    "        done = False\n",
    "        state, info = env.reset()          # No sé si este reset es random, pero debería ser!!\n",
    "        while not done: \n",
    "            \n",
    "            action = agent.get_action(state)\n",
    "\n",
    "            next_state, reward, terminated, truncated, info = env.step(action)\n",
    "            reward += (info[\"speed\"]/5 - 4.5) ** 2.5 - terminated * 10\n",
    "            \n",
    "            loss_val = agent.update(state, action, reward, terminated, next_state)\n",
    "            total_time += 1\n",
    "\n",
    "            state = next_state\n",
    "            losses.append(loss_val)\n",
    "\n",
    "            done = terminated# or truncated\n",
    "\n",
    "        if ((ep+1)% eval_every == 0) and False:\n",
    "            rewards = eval_agent(agent, env)\n",
    "            print(\"episode =\", ep+1, \", reward = \", np.mean(rewards))\n",
    "            if np.mean(rewards) >= reward_threshold:\n",
    "                break\n",
    "        if ((ep+1)% 10 == 0):\n",
    "            print(f\"epsisode {ep}, epsilon {agent.epsilon}, losses[-1] = {losses[-1]}\")\n",
    "                \n",
    "    return losses\n",
    "\n",
    "# Run the training loop\n",
    "losses = train(env, agent, N_episodes)"
   ]
  },
  {
   "cell_type": "code",
   "execution_count": 93,
   "metadata": {},
   "outputs": [],
   "source": [
    "import copy\n",
    "import torch\n",
    "\n",
    "# Assuming agent.q_net is an instance of Net\n",
    "model = agent.q_net\n",
    "\n",
    "# Save the model state dictionary\n",
    "torch.save(model.state_dict(), 'model_weights_2.pth')\n"
   ]
  },
  {
   "cell_type": "code",
   "execution_count": 94,
   "metadata": {},
   "outputs": [
    {
     "data": {
      "text/plain": [
       "Net(\n",
       "  (net): Sequential(\n",
       "    (0): Linear(in_features=25, out_features=128, bias=True)\n",
       "    (1): ReLU()\n",
       "    (2): Linear(in_features=128, out_features=128, bias=True)\n",
       "    (3): ReLU()\n",
       "    (4): Linear(in_features=128, out_features=5, bias=True)\n",
       "  )\n",
       ")"
      ]
     },
     "execution_count": 94,
     "metadata": {},
     "output_type": "execute_result"
    }
   ],
   "source": [
    "loaded_model = Net(25, 128, 128, 5)\n",
    "\n",
    "# Load the saved state dict\n",
    "loaded_model.load_state_dict(torch.load('model_weights_2.pth'))\n",
    "\n",
    "# Make sure to call eval() if you are in inference mode\n",
    "loaded_model.eval()"
   ]
  },
  {
   "cell_type": "code",
   "execution_count": 75,
   "metadata": {},
   "outputs": [],
   "source": [
    "loses_old = copy.copy(loses2)"
   ]
  },
  {
   "cell_type": "code",
   "execution_count": 56,
   "metadata": {},
   "outputs": [],
   "source": [
    "loses2 = loses1 + losses"
   ]
  },
  {
   "cell_type": "code",
   "execution_count": 91,
   "metadata": {},
   "outputs": [],
   "source": [
    "loses1 = copy.copy(losses)"
   ]
  },
  {
   "cell_type": "code",
   "execution_count": 57,
   "metadata": {},
   "outputs": [],
   "source": [
    "losses = loses2"
   ]
  },
  {
   "cell_type": "code",
   "execution_count": 95,
   "metadata": {},
   "outputs": [
    {
     "data": {
      "text/plain": [
       "[<matplotlib.lines.Line2D at 0x1fc20100ed0>]"
      ]
     },
     "execution_count": 95,
     "metadata": {},
     "output_type": "execute_result"
    },
    {
     "data": {
      "image/png": "[encoded data removed]",
      "text/plain": [
       "<Figure size 640x480 with 1 Axes>"
      ]
     },
     "metadata": {},
     "output_type": "display_data"
    }
   ],
   "source": [
    "plt.plot(loses_old+loses1+losses)"
   ]
  },
  {
   "cell_type": "code",
   "execution_count": 1,
   "metadata": {},
   "outputs": [
    {
     "data": {
      "image/png": "[encoded data removed]",
      "text/plain": [
       "<Figure size 640x480 with 1 Axes>"
      ]
     },
     "metadata": {},
     "output_type": "display_data"
    }
   ],
   "source": [
    "import numpy as np\n",
    "import matplotlib.pyplot as plt\n",
    "\n",
    "epsilon_start = 0.9\n",
    "decrease_epsilon_factor = 1000\n",
    "epsilon_min = 0.05\n",
    "n_eps = np.arange(1000)  # Assuming you have 10,000 episodes\n",
    "\n",
    "epsilon = epsilon_min + (epsilon_start - epsilon_min) * (\n",
    "                        np.exp(-1. * n_eps / decrease_epsilon_factor))\n",
    "\n",
    "plt.plot(n_eps, epsilon)\n",
    "plt.xlabel('Number of Episodes')\n",
    "plt.ylabel('Epsilon Value')\n",
    "plt.title('Epsilon Decay Over Episodes')\n",
    "plt.grid(True)\n",
    "plt.show()\n"
   ]
  },
  {
   "cell_type": "markdown",
   "metadata": {},
   "source": [
    "#### rewards = eval_agent(agent, env, 20)\n",
    "# print(\"\")\n",
    "# print(\"mean reward after training = \", np.mean(rewards))"
   ]
  },
  {
   "cell_type": "code",
   "execution_count": 50,
   "metadata": {},
   "outputs": [],
   "source": [
    "agent.epsilon = 0.08"
   ]
  },
  {
   "cell_type": "code",
   "execution_count": 39,
   "metadata": {},
   "outputs": [
    {
     "data": {
      "text/plain": [
       "0.08"
      ]
     },
     "execution_count": 39,
     "metadata": {},
     "output_type": "execute_result"
    }
   ],
   "source": [
    "agent.epsilon"
   ]
  },
  {
   "cell_type": "code",
   "execution_count": 27,
   "metadata": {},
   "outputs": [],
   "source": [
    "def eval_agent(agent, env, n_sim=5):\n",
    "    env_copy = deepcopy(env)\n",
    "    episode_rewards = np.zeros(n_sim)\n",
    "    for i in range(n_sim):\n",
    "        state, _ = env_copy.reset()\n",
    "        reward_sum = 0\n",
    "        done = False\n",
    "        print()\n",
    "        while not done: \n",
    "            print(\".\",end=\"\")\n",
    "            action = agent.get_best_action(state)\n",
    "            state, reward, terminated, truncated, _ = env_copy.step(action)\n",
    "            reward_sum += reward\n",
    "            done = terminated# or truncated\n",
    "        episode_rewards[i] = reward_sum\n",
    "    return episode_rewards"
   ]
  },
  {
   "cell_type": "code",
   "execution_count": 28,
   "metadata": {},
   "outputs": [
    {
     "name": "stdout",
     "output_type": "stream",
     "text": [
      "\n",
      ".......................................................................................................................................................................................................................................................................................................................................................................................................................................................................................................................................\n",
      "...........................................................................................................................................................................................................................................................................................................................................................................................................................................................................................................................................\n",
      "..........................................................................................................................................................................................................................................................................................................................................................................................................................................................................................................................................................\n",
      "....................................................................................................................................................................................................................................................................................................................................................................................................................................................................................................................................................\n",
      "......................................................................................................................................................................................................................................................................................................................................................................................................................................................................................................................................................................\n",
      "mean reward after training =  342.4985924458368\n"
     ]
    }
   ],
   "source": [
    "rewards = eval_agent(agent, env, 5 )\n",
    "print(\"\")\n",
    "print(\"mean reward after training = \", np.mean(rewards))"
   ]
  },
  {
   "cell_type": "code",
   "execution_count": 87,
   "metadata": {},
   "outputs": [
    {
     "data": {
      "image/png": "[encoded data removed]",
      "text/plain": [
       "<Figure size 640x480 with 1 Axes>"
      ]
     },
     "metadata": {},
     "output_type": "display_data"
    },
    {
     "name": "stdout",
     "output_type": "stream",
     "text": [
      "Episode length 350.9901612459061\n"
     ]
    }
   ],
   "source": [
    "def run_one_episode(env, agent, display=True):        \n",
    "    display_env = deepcopy(env)        \n",
    "    done = False  \n",
    "    state, _ = display_env.reset()        \n",
    "\n",
    "    rewards = 0        \n",
    "\n",
    "    while not done:  \n",
    "        action = agent.get_best_action(state)  \n",
    "        print(action)\n",
    "        state, reward, done, _, _ = display_env.step(action)    \n",
    "        rewards += reward        \n",
    "        if display:         \n",
    "            clear_output(wait=True)        \n",
    "            plt.imshow(display_env.render())        \n",
    "            plt.show()        \n",
    "    if display:        \n",
    "        display_env.close()        \n",
    "    print(f'Episode length {rewards}')        \n",
    "#agent.epsilon = 0.05\n",
    "env.config['vehicles_density'] = 1.7\n",
    "run_one_episode(env, agent, display=True) "
   ]
  },
  {
   "cell_type": "code",
   "execution_count": 61,
   "metadata": {},
   "outputs": [
    {
     "data": {
      "text/plain": [
       "0.11761334131493678"
      ]
     },
     "execution_count": 61,
     "metadata": {},
     "output_type": "execute_result"
    }
   ],
   "source": [
    "agent.epsilon"
   ]
  },
  {
   "cell_type": "code",
   "execution_count": 74,
   "metadata": {},
   "outputs": [
    {
     "name": "stderr",
     "output_type": "stream",
     "text": [
      "C:\\Users\\Francisco García\\anaconda3\\Lib\\site-packages\\gymnasium\\core.py:311: UserWarning: \u001b[33mWARN: env.config to get variables from other wrappers is deprecated and will be removed in v1.0, to get this variable you can do `env.unwrapped.config` for environment variables or `env.get_wrapper_attr('config')` that will search the reminding wrappers.\u001b[0m\n",
      "  logger.warn(\n"
     ]
    },
    {
     "data": {
      "text/plain": [
       "2"
      ]
     },
     "execution_count": 74,
     "metadata": {},
     "output_type": "execute_result"
    }
   ],
   "source": [
    "env.config['vehicles_density'] = 2\n",
    "env.config['vehicles_density']"
   ]
  },
  {
   "cell_type": "code",
   "execution_count": null,
   "metadata": {},
   "outputs": [],
   "source": []
  }
 ],
 "metadata": {
  "kernelspec": {
   "display_name": "Python 3 (ipykernel)",
   "language": "python",
   "name": "python3"
  },
  "language_info": {
   "codemirror_mode": {
    "name": "ipython",
    "version": 3
   },
   "file_extension": ".py",
   "mimetype": "text/x-python",
   "name": "python",
   "nbconvert_exporter": "python",
   "pygments_lexer": "ipython3",
   "version": "3.11.7"
  },
  "widgets": {
   "application/vnd.jupyter.widget-state+json": {
    "state": {},
    "version_major": 2,
    "version_minor": 0
   }
  }
 },
 "nbformat": 4,
 "nbformat_minor": 4
}
